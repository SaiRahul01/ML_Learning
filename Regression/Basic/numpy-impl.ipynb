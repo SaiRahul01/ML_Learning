{
 "cells": [
  {
   "cell_type": "markdown",
   "id": "9878f152",
   "metadata": {},
   "source": [
    "## Libraries"
   ]
  },
  {
   "cell_type": "code",
   "execution_count": 1,
   "id": "969f250b",
   "metadata": {},
   "outputs": [],
   "source": [
    "import numpy as np\n",
    "import matplotlib.pyplot as plt\n",
    "from sklearn.metrics import r2_score"
   ]
  },
  {
   "cell_type": "markdown",
   "id": "67974263",
   "metadata": {},
   "source": [
    "### Function to find co-efficients"
   ]
  },
  {
   "cell_type": "code",
   "execution_count": 2,
   "id": "1f634fe7",
   "metadata": {},
   "outputs": [],
   "source": [
    "def find_coeff(x,y):\n",
    "    n = np.size(x)\n",
    "    mean_x = np.mean(x)\n",
    "    mean_y = np.mean(y)\n",
    "    ss_xy=np.sum(y*x) - n*mean_y*mean_x\n",
    "    ss_xx=np.sum(x*x) - n*mean_x*mean_x\n",
    "    c1=ss_xy/ss_xx\n",
    "    c0=mean_y - c1*mean_x\n",
    "    \n",
    "    return (c0,c1)"
   ]
  },
  {
   "cell_type": "code",
   "execution_count": 3,
   "id": "6ea1aded",
   "metadata": {},
   "outputs": [],
   "source": [
    "def plotline(x,y,c):\n",
    "    plt.scatter(x,y,color=\"r\",marker=\"o\",s=30)\n",
    "    pred_y=c[0]+c[1]*x\n",
    "    plt.plot(x,pred_y,color=\"g\")\n",
    "    plt.xlabel('X')\n",
    "    plt.ylabel('Y')\n",
    "    plt.title('Simple Linear Regression')\n",
    "    plt.show()\n",
    "    return pred_y"
   ]
  },
  {
   "cell_type": "markdown",
   "id": "b4ac115d",
   "metadata": {},
   "source": [
    "### Driver Code"
   ]
  },
  {
   "cell_type": "code",
   "execution_count": 4,
   "id": "921f85fc",
   "metadata": {},
   "outputs": [
    {
     "name": "stdout",
     "output_type": "stream",
     "text": [
      "Coefficients:  C0 =  1.2363636363636363  C1 =  1.1696969696969697\n"
     ]
    },
    {
     "data": {
      "image/png": "[encoded data removed]",
      "text/plain": [
       "<Figure size 432x288 with 1 Axes>"
      ]
     },
     "metadata": {
      "needs_background": "light"
     },
     "output_type": "display_data"
    },
    {
     "name": "stdout",
     "output_type": "stream",
     "text": [
      "Equation of the Best Fit Line:  Y =  1.2363636363636363  +  1.2363636363636363 *X\n",
      "R^2 Value:  0.952538038613988\n"
     ]
    }
   ],
   "source": [
    "def main():\n",
    "    x=np.array([0,1,2,3,4,5,6,7,8,9])\n",
    "    y=np.array([1,3,2,5,7,8,8,9,10,12])\n",
    "    \n",
    "    c=find_coeff(x,y)\n",
    "    print(\"Coefficients: \",\"C0 = \",c[0],\" C1 = \",c[1])\n",
    "    pred_y=plotline(x,y,c)\n",
    "    \n",
    "    print(\"Equation of the Best Fit Line: \" ,\"Y = \",c[0],\" + \",c[0],\"*X\")\n",
    "    print(\"R^2 Value: \",r2_score(y,pred_y))\n",
    "if __name__ ==\"__main__\":\n",
    "    main()"
   ]
  }
 ],
 "metadata": {
  "kernelspec": {
   "display_name": "Python 3 (ipykernel)",
   "language": "python",
   "name": "python3"
  },
  "language_info": {
   "codemirror_mode": {
    "name": "ipython",
    "version": 3
   },
   "file_extension": ".py",
   "mimetype": "text/x-python",
   "name": "python",
   "nbconvert_exporter": "python",
   "pygments_lexer": "ipython3",
   "version": "3.9.7"
  }
 },
 "nbformat": 4,
 "nbformat_minor": 5
}
